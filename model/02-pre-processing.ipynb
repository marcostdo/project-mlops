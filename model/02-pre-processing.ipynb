{
 "cells": [
  {
   "cell_type": "code",
   "execution_count": 1,
   "id": "0cdfadf3-5d2d-4ee8-b8f7-97885db0e7ab",
   "metadata": {},
   "outputs": [],
   "source": [
    "import pandas as pd"
   ]
  },
  {
   "cell_type": "markdown",
   "id": "5e7174f7-cc9d-4ad2-931e-74fe3565b183",
   "metadata": {},
   "source": [
    "### Carregando dataset"
   ]
  },
  {
   "cell_type": "code",
   "execution_count": 2,
   "id": "510c6760-94c7-4576-b15e-f6400da43b91",
   "metadata": {},
   "outputs": [],
   "source": [
    "df = pd.read_csv(\"data/train.csv\", header=None, names=['polarity', 'title', 'text'])"
   ]
  },
  {
   "cell_type": "code",
   "execution_count": 6,
   "id": "14631abc-92d4-4b99-b83b-e6575d618463",
   "metadata": {},
   "outputs": [],
   "source": [
    "cat1 = df[\"polarity\"] == 1"
   ]
  },
  {
   "cell_type": "code",
   "execution_count": 7,
   "id": "41b42922-f821-4f81-8f2e-811bb2cf9017",
   "metadata": {},
   "outputs": [],
   "source": [
    "df_cat1 = df[cat1]"
   ]
  },
  {
   "cell_type": "code",
   "execution_count": 27,
   "id": "c497da25-d2f4-41d0-8c2d-0a0a8c866948",
   "metadata": {},
   "outputs": [
    {
     "data": {
      "text/html": [
       "<div>\n",
       "<style scoped>\n",
       "    .dataframe tbody tr th:only-of-type {\n",
       "        vertical-align: middle;\n",
       "    }\n",
       "\n",
       "    .dataframe tbody tr th {\n",
       "        vertical-align: top;\n",
       "    }\n",
       "\n",
       "    .dataframe thead th {\n",
       "        text-align: right;\n",
       "    }\n",
       "</style>\n",
       "<table border=\"1\" class=\"dataframe\">\n",
       "  <thead>\n",
       "    <tr style=\"text-align: right;\">\n",
       "      <th></th>\n",
       "      <th>polarity</th>\n",
       "      <th>title</th>\n",
       "      <th>text</th>\n",
       "    </tr>\n",
       "  </thead>\n",
       "  <tbody>\n",
       "    <tr>\n",
       "      <th>6</th>\n",
       "      <td>1</td>\n",
       "      <td>Buyer beware</td>\n",
       "      <td>This is a self-published book, and if you want...</td>\n",
       "    </tr>\n",
       "    <tr>\n",
       "      <th>10</th>\n",
       "      <td>1</td>\n",
       "      <td>The Worst!</td>\n",
       "      <td>A complete waste of time. Typographical errors...</td>\n",
       "    </tr>\n",
       "    <tr>\n",
       "      <th>13</th>\n",
       "      <td>1</td>\n",
       "      <td>Oh please</td>\n",
       "      <td>I guess you have to be a romance novel lover f...</td>\n",
       "    </tr>\n",
       "    <tr>\n",
       "      <th>14</th>\n",
       "      <td>1</td>\n",
       "      <td>Awful beyond belief!</td>\n",
       "      <td>I feel I have to write to keep others from was...</td>\n",
       "    </tr>\n",
       "    <tr>\n",
       "      <th>15</th>\n",
       "      <td>1</td>\n",
       "      <td>Don't try to fool us with fake reviews.</td>\n",
       "      <td>It's glaringly obvious that all of the glowing...</td>\n",
       "    </tr>\n",
       "  </tbody>\n",
       "</table>\n",
       "</div>"
      ],
      "text/plain": [
       "    polarity                                    title  \\\n",
       "6          1                             Buyer beware   \n",
       "10         1                               The Worst!   \n",
       "13         1                                Oh please   \n",
       "14         1                     Awful beyond belief!   \n",
       "15         1  Don't try to fool us with fake reviews.   \n",
       "\n",
       "                                                 text  \n",
       "6   This is a self-published book, and if you want...  \n",
       "10  A complete waste of time. Typographical errors...  \n",
       "13  I guess you have to be a romance novel lover f...  \n",
       "14  I feel I have to write to keep others from was...  \n",
       "15  It's glaringly obvious that all of the glowing...  "
      ]
     },
     "execution_count": 27,
     "metadata": {},
     "output_type": "execute_result"
    }
   ],
   "source": [
    "df_cat1.head(5)"
   ]
  },
  {
   "cell_type": "code",
   "execution_count": 31,
   "id": "8816e143-7843-4b93-89df-c29c1d6eb5fe",
   "metadata": {},
   "outputs": [
    {
     "data": {
      "text/plain": [
       "polarity      0\n",
       "title       120\n",
       "text          0\n",
       "dtype: int64"
      ]
     },
     "execution_count": 31,
     "metadata": {},
     "output_type": "execute_result"
    }
   ],
   "source": [
    "df_cat1.isnull().sum()"
   ]
  },
  {
   "cell_type": "code",
   "execution_count": 11,
   "id": "2d677f00-d27c-4d0f-ac6f-a23c5d88cb31",
   "metadata": {},
   "outputs": [],
   "source": [
    "cat2 = df[\"polarity\"] == 2"
   ]
  },
  {
   "cell_type": "code",
   "execution_count": 12,
   "id": "ad1e986a-50a6-4e4e-838f-8ab4c9b1b697",
   "metadata": {},
   "outputs": [],
   "source": [
    "df_cat2 = df[cat2]"
   ]
  },
  {
   "cell_type": "code",
   "execution_count": 29,
   "id": "577dbea2-a22f-4c7a-b0d5-91b56521e7cc",
   "metadata": {},
   "outputs": [
    {
     "data": {
      "text/html": [
       "<div>\n",
       "<style scoped>\n",
       "    .dataframe tbody tr th:only-of-type {\n",
       "        vertical-align: middle;\n",
       "    }\n",
       "\n",
       "    .dataframe tbody tr th {\n",
       "        vertical-align: top;\n",
       "    }\n",
       "\n",
       "    .dataframe thead th {\n",
       "        text-align: right;\n",
       "    }\n",
       "</style>\n",
       "<table border=\"1\" class=\"dataframe\">\n",
       "  <thead>\n",
       "    <tr style=\"text-align: right;\">\n",
       "      <th></th>\n",
       "      <th>polarity</th>\n",
       "      <th>title</th>\n",
       "      <th>text</th>\n",
       "    </tr>\n",
       "  </thead>\n",
       "  <tbody>\n",
       "    <tr>\n",
       "      <th>0</th>\n",
       "      <td>2</td>\n",
       "      <td>Stuning even for the non-gamer</td>\n",
       "      <td>This sound track was beautiful! It paints the ...</td>\n",
       "    </tr>\n",
       "    <tr>\n",
       "      <th>1</th>\n",
       "      <td>2</td>\n",
       "      <td>The best soundtrack ever to anything.</td>\n",
       "      <td>I'm reading a lot of reviews saying that this ...</td>\n",
       "    </tr>\n",
       "    <tr>\n",
       "      <th>2</th>\n",
       "      <td>2</td>\n",
       "      <td>Amazing!</td>\n",
       "      <td>This soundtrack is my favorite music of all ti...</td>\n",
       "    </tr>\n",
       "    <tr>\n",
       "      <th>3</th>\n",
       "      <td>2</td>\n",
       "      <td>Excellent Soundtrack</td>\n",
       "      <td>I truly like this soundtrack and I enjoy video...</td>\n",
       "    </tr>\n",
       "    <tr>\n",
       "      <th>4</th>\n",
       "      <td>2</td>\n",
       "      <td>Remember, Pull Your Jaw Off The Floor After He...</td>\n",
       "      <td>If you've played the game, you know how divine...</td>\n",
       "    </tr>\n",
       "  </tbody>\n",
       "</table>\n",
       "</div>"
      ],
      "text/plain": [
       "   polarity                                              title  \\\n",
       "0         2                     Stuning even for the non-gamer   \n",
       "1         2              The best soundtrack ever to anything.   \n",
       "2         2                                           Amazing!   \n",
       "3         2                               Excellent Soundtrack   \n",
       "4         2  Remember, Pull Your Jaw Off The Floor After He...   \n",
       "\n",
       "                                                text  \n",
       "0  This sound track was beautiful! It paints the ...  \n",
       "1  I'm reading a lot of reviews saying that this ...  \n",
       "2  This soundtrack is my favorite music of all ti...  \n",
       "3  I truly like this soundtrack and I enjoy video...  \n",
       "4  If you've played the game, you know how divine...  "
      ]
     },
     "execution_count": 29,
     "metadata": {},
     "output_type": "execute_result"
    }
   ],
   "source": [
    "df_cat2.head(5)"
   ]
  },
  {
   "cell_type": "code",
   "execution_count": 30,
   "id": "6e156c80-7b59-4d93-96f0-53364b4251f6",
   "metadata": {},
   "outputs": [
    {
     "data": {
      "text/plain": [
       "polarity     0\n",
       "title       87\n",
       "text         0\n",
       "dtype: int64"
      ]
     },
     "execution_count": 30,
     "metadata": {},
     "output_type": "execute_result"
    }
   ],
   "source": [
    "df_cat2.isnull().sum()"
   ]
  },
  {
   "cell_type": "code",
   "execution_count": null,
   "id": "3fb3dacc-1d6e-4bcf-9767-1644b541d859",
   "metadata": {},
   "outputs": [],
   "source": []
  },
  {
   "cell_type": "markdown",
   "id": "b46e247e-0239-4702-8de9-6d66d0091c6a",
   "metadata": {},
   "source": [
    "### Tratamento de nulos"
   ]
  },
  {
   "cell_type": "code",
   "execution_count": 25,
   "id": "6f8059e1-e2a4-43e8-823c-24f0edf25cae",
   "metadata": {},
   "outputs": [],
   "source": [
    "df_cat1_sem_nulos = df_cat1.dropna()"
   ]
  },
  {
   "cell_type": "code",
   "execution_count": 26,
   "id": "ab9c6e5f-5795-4d30-8996-26daf100d7f9",
   "metadata": {},
   "outputs": [],
   "source": [
    "df_cat2_sem_nulos = df_cat2.dropna()"
   ]
  },
  {
   "cell_type": "code",
   "execution_count": 32,
   "id": "02a4e299-a625-4797-acd5-60eb8ac6c3fc",
   "metadata": {},
   "outputs": [
    {
     "data": {
      "text/plain": [
       "polarity    0\n",
       "title       0\n",
       "text        0\n",
       "dtype: int64"
      ]
     },
     "execution_count": 32,
     "metadata": {},
     "output_type": "execute_result"
    }
   ],
   "source": [
    "df_cat1_sem_nulos.isnull().sum()"
   ]
  },
  {
   "cell_type": "code",
   "execution_count": 33,
   "id": "6ef30927-3b13-4ebc-8cdb-e9d251b7c93c",
   "metadata": {},
   "outputs": [
    {
     "data": {
      "text/plain": [
       "polarity    0\n",
       "title       0\n",
       "text        0\n",
       "dtype: int64"
      ]
     },
     "execution_count": 33,
     "metadata": {},
     "output_type": "execute_result"
    }
   ],
   "source": [
    "df_cat2_sem_nulos.isnull().sum()"
   ]
  },
  {
   "cell_type": "code",
   "execution_count": null,
   "id": "1194594f-7d58-42de-b8d0-db8bbe930a52",
   "metadata": {},
   "outputs": [],
   "source": []
  },
  {
   "cell_type": "markdown",
   "id": "79141001-c0ee-4213-b20b-bd904154ea0d",
   "metadata": {},
   "source": [
    "### Criando novo dataset reduzido"
   ]
  },
  {
   "cell_type": "code",
   "execution_count": 36,
   "id": "bab534f8-73d3-4469-b51a-f1e9f766c433",
   "metadata": {},
   "outputs": [],
   "source": [
    "amostra_val=5000\n",
    "amostra_aleatoria_cat1 = df_cat1_sem_nulos.sample(n=amostra_val)\n",
    "amostra_aleatoria_cat2 = df_cat2_sem_nulos.sample(n=amostra_val)"
   ]
  },
  {
   "cell_type": "code",
   "execution_count": 37,
   "id": "9eb2533b-748c-4451-97d3-140fd1abd901",
   "metadata": {},
   "outputs": [
    {
     "data": {
      "text/plain": [
       "polarity    5000\n",
       "title       5000\n",
       "text        5000\n",
       "dtype: int64"
      ]
     },
     "execution_count": 37,
     "metadata": {},
     "output_type": "execute_result"
    }
   ],
   "source": [
    "amostra_aleatoria_cat1.count()"
   ]
  },
  {
   "cell_type": "code",
   "execution_count": 39,
   "id": "c49c25b4-3b6d-455e-b8ca-4b071efb19c2",
   "metadata": {},
   "outputs": [
    {
     "data": {
      "text/html": [
       "<div>\n",
       "<style scoped>\n",
       "    .dataframe tbody tr th:only-of-type {\n",
       "        vertical-align: middle;\n",
       "    }\n",
       "\n",
       "    .dataframe tbody tr th {\n",
       "        vertical-align: top;\n",
       "    }\n",
       "\n",
       "    .dataframe thead th {\n",
       "        text-align: right;\n",
       "    }\n",
       "</style>\n",
       "<table border=\"1\" class=\"dataframe\">\n",
       "  <thead>\n",
       "    <tr style=\"text-align: right;\">\n",
       "      <th></th>\n",
       "      <th>polarity</th>\n",
       "      <th>title</th>\n",
       "      <th>text</th>\n",
       "    </tr>\n",
       "  </thead>\n",
       "  <tbody>\n",
       "    <tr>\n",
       "      <th>338575</th>\n",
       "      <td>1</td>\n",
       "      <td>love the movie but can't watch on my dvd</td>\n",
       "      <td>I saw movie on Netflix and loved it so ordered...</td>\n",
       "    </tr>\n",
       "    <tr>\n",
       "      <th>3074471</th>\n",
       "      <td>1</td>\n",
       "      <td>did not meet my expectations</td>\n",
       "      <td>I saw this on sale at my local grocery store. ...</td>\n",
       "    </tr>\n",
       "    <tr>\n",
       "      <th>1440425</th>\n",
       "      <td>1</td>\n",
       "      <td>I don't poop with you!</td>\n",
       "      <td>Anyone who gives this CD more than one star is...</td>\n",
       "    </tr>\n",
       "    <tr>\n",
       "      <th>1551883</th>\n",
       "      <td>1</td>\n",
       "      <td>Blu-Ray Review</td>\n",
       "      <td>No Doubt one of the worst movies I have ever s...</td>\n",
       "    </tr>\n",
       "    <tr>\n",
       "      <th>2274828</th>\n",
       "      <td>1</td>\n",
       "      <td>Not a good adaptation of Fossas</td>\n",
       "      <td>For one, the correct name of the cat-like weas...</td>\n",
       "    </tr>\n",
       "  </tbody>\n",
       "</table>\n",
       "</div>"
      ],
      "text/plain": [
       "         polarity                                     title  \\\n",
       "338575          1  love the movie but can't watch on my dvd   \n",
       "3074471         1              did not meet my expectations   \n",
       "1440425         1                    I don't poop with you!   \n",
       "1551883         1                            Blu-Ray Review   \n",
       "2274828         1           Not a good adaptation of Fossas   \n",
       "\n",
       "                                                      text  \n",
       "338575   I saw movie on Netflix and loved it so ordered...  \n",
       "3074471  I saw this on sale at my local grocery store. ...  \n",
       "1440425  Anyone who gives this CD more than one star is...  \n",
       "1551883  No Doubt one of the worst movies I have ever s...  \n",
       "2274828  For one, the correct name of the cat-like weas...  "
      ]
     },
     "execution_count": 39,
     "metadata": {},
     "output_type": "execute_result"
    }
   ],
   "source": [
    "amostra_aleatoria_cat1.head(5)"
   ]
  },
  {
   "cell_type": "code",
   "execution_count": 38,
   "id": "1b649c79-4296-4e9a-90b1-197a30df0cee",
   "metadata": {},
   "outputs": [
    {
     "data": {
      "text/plain": [
       "polarity    5000\n",
       "title       5000\n",
       "text        5000\n",
       "dtype: int64"
      ]
     },
     "execution_count": 38,
     "metadata": {},
     "output_type": "execute_result"
    }
   ],
   "source": [
    "amostra_aleatoria_cat2.count()"
   ]
  },
  {
   "cell_type": "code",
   "execution_count": 40,
   "id": "25041268-4e88-4bb0-bfbc-18ce7c0ac1c5",
   "metadata": {},
   "outputs": [
    {
     "data": {
      "text/html": [
       "<div>\n",
       "<style scoped>\n",
       "    .dataframe tbody tr th:only-of-type {\n",
       "        vertical-align: middle;\n",
       "    }\n",
       "\n",
       "    .dataframe tbody tr th {\n",
       "        vertical-align: top;\n",
       "    }\n",
       "\n",
       "    .dataframe thead th {\n",
       "        text-align: right;\n",
       "    }\n",
       "</style>\n",
       "<table border=\"1\" class=\"dataframe\">\n",
       "  <thead>\n",
       "    <tr style=\"text-align: right;\">\n",
       "      <th></th>\n",
       "      <th>polarity</th>\n",
       "      <th>title</th>\n",
       "      <th>text</th>\n",
       "    </tr>\n",
       "  </thead>\n",
       "  <tbody>\n",
       "    <tr>\n",
       "      <th>2667778</th>\n",
       "      <td>2</td>\n",
       "      <td>Nice And Easy</td>\n",
       "      <td>Frank looks and sounds great on this one. He s...</td>\n",
       "    </tr>\n",
       "    <tr>\n",
       "      <th>3567552</th>\n",
       "      <td>2</td>\n",
       "      <td>susan</td>\n",
       "      <td>Love the basket, high quality material, would ...</td>\n",
       "    </tr>\n",
       "    <tr>\n",
       "      <th>1007440</th>\n",
       "      <td>2</td>\n",
       "      <td>Refreshing</td>\n",
       "      <td>I finished this book with a smile on my face -...</td>\n",
       "    </tr>\n",
       "    <tr>\n",
       "      <th>3170387</th>\n",
       "      <td>2</td>\n",
       "      <td>So good so far!</td>\n",
       "      <td>I finally changed out my 22 year old windshiel...</td>\n",
       "    </tr>\n",
       "    <tr>\n",
       "      <th>3120142</th>\n",
       "      <td>2</td>\n",
       "      <td>Had it for a couple of years now, and have gif...</td>\n",
       "      <td>I've enjoyed this for 2-3 years now. Looks sha...</td>\n",
       "    </tr>\n",
       "  </tbody>\n",
       "</table>\n",
       "</div>"
      ],
      "text/plain": [
       "         polarity                                              title  \\\n",
       "2667778         2                                      Nice And Easy   \n",
       "3567552         2                                              susan   \n",
       "1007440         2                                         Refreshing   \n",
       "3170387         2                                    So good so far!   \n",
       "3120142         2  Had it for a couple of years now, and have gif...   \n",
       "\n",
       "                                                      text  \n",
       "2667778  Frank looks and sounds great on this one. He s...  \n",
       "3567552  Love the basket, high quality material, would ...  \n",
       "1007440  I finished this book with a smile on my face -...  \n",
       "3170387  I finally changed out my 22 year old windshiel...  \n",
       "3120142  I've enjoyed this for 2-3 years now. Looks sha...  "
      ]
     },
     "execution_count": 40,
     "metadata": {},
     "output_type": "execute_result"
    }
   ],
   "source": [
    "amostra_aleatoria_cat2.head(5)"
   ]
  },
  {
   "cell_type": "markdown",
   "id": "f03daac3-0643-4241-ae1d-20dd7d80450d",
   "metadata": {},
   "source": [
    "### Criando novo dataset"
   ]
  },
  {
   "cell_type": "code",
   "execution_count": 46,
   "id": "1f2e1041-789f-4bab-b8f9-f03a08a0644a",
   "metadata": {},
   "outputs": [
    {
     "name": "stdout",
     "output_type": "stream",
     "text": [
      "   polarity                                     title  \\\n",
      "0         1  love the movie but can't watch on my dvd   \n",
      "1         1              did not meet my expectations   \n",
      "2         1                    I don't poop with you!   \n",
      "3         1                            Blu-Ray Review   \n",
      "4         1           Not a good adaptation of Fossas   \n",
      "\n",
      "                                                text  \n",
      "0  I saw movie on Netflix and loved it so ordered...  \n",
      "1  I saw this on sale at my local grocery store. ...  \n",
      "2  Anyone who gives this CD more than one star is...  \n",
      "3  No Doubt one of the worst movies I have ever s...  \n",
      "4  For one, the correct name of the cat-like weas...  \n"
     ]
    }
   ],
   "source": [
    "data = pd.concat([amostra_aleatoria_cat1, amostra_aleatoria_cat2], ignore_index=True)\n",
    "print(data.head(5))"
   ]
  },
  {
   "cell_type": "code",
   "execution_count": 47,
   "id": "fde8a062-acf2-4675-9c44-383cdba4ab2e",
   "metadata": {},
   "outputs": [
    {
     "data": {
      "text/plain": [
       "polarity    10000\n",
       "title       10000\n",
       "text        10000\n",
       "dtype: int64"
      ]
     },
     "execution_count": 47,
     "metadata": {},
     "output_type": "execute_result"
    }
   ],
   "source": [
    "data.count()"
   ]
  },
  {
   "cell_type": "code",
   "execution_count": 52,
   "id": "6043f148-814d-4bd1-9fd7-918f793250a2",
   "metadata": {},
   "outputs": [],
   "source": [
    "data.to_csv(\"data/final_data.csv\", index=False)"
   ]
  },
  {
   "cell_type": "code",
   "execution_count": 53,
   "id": "471f0f48-8d1b-4e0b-896e-87aa52e1a95d",
   "metadata": {},
   "outputs": [],
   "source": [
    "new_data = pd.read_csv(\"data/final_data.csv\")"
   ]
  },
  {
   "cell_type": "code",
   "execution_count": 54,
   "id": "e4708482-3f08-466b-ba04-dd33bcd10e28",
   "metadata": {},
   "outputs": [
    {
     "data": {
      "text/html": [
       "<div>\n",
       "<style scoped>\n",
       "    .dataframe tbody tr th:only-of-type {\n",
       "        vertical-align: middle;\n",
       "    }\n",
       "\n",
       "    .dataframe tbody tr th {\n",
       "        vertical-align: top;\n",
       "    }\n",
       "\n",
       "    .dataframe thead th {\n",
       "        text-align: right;\n",
       "    }\n",
       "</style>\n",
       "<table border=\"1\" class=\"dataframe\">\n",
       "  <thead>\n",
       "    <tr style=\"text-align: right;\">\n",
       "      <th></th>\n",
       "      <th>polarity</th>\n",
       "      <th>title</th>\n",
       "      <th>text</th>\n",
       "    </tr>\n",
       "  </thead>\n",
       "  <tbody>\n",
       "    <tr>\n",
       "      <th>0</th>\n",
       "      <td>1</td>\n",
       "      <td>love the movie but can't watch on my dvd</td>\n",
       "      <td>I saw movie on Netflix and loved it so ordered...</td>\n",
       "    </tr>\n",
       "    <tr>\n",
       "      <th>1</th>\n",
       "      <td>1</td>\n",
       "      <td>did not meet my expectations</td>\n",
       "      <td>I saw this on sale at my local grocery store. ...</td>\n",
       "    </tr>\n",
       "    <tr>\n",
       "      <th>2</th>\n",
       "      <td>1</td>\n",
       "      <td>I don't poop with you!</td>\n",
       "      <td>Anyone who gives this CD more than one star is...</td>\n",
       "    </tr>\n",
       "    <tr>\n",
       "      <th>3</th>\n",
       "      <td>1</td>\n",
       "      <td>Blu-Ray Review</td>\n",
       "      <td>No Doubt one of the worst movies I have ever s...</td>\n",
       "    </tr>\n",
       "    <tr>\n",
       "      <th>4</th>\n",
       "      <td>1</td>\n",
       "      <td>Not a good adaptation of Fossas</td>\n",
       "      <td>For one, the correct name of the cat-like weas...</td>\n",
       "    </tr>\n",
       "  </tbody>\n",
       "</table>\n",
       "</div>"
      ],
      "text/plain": [
       "   polarity                                     title  \\\n",
       "0         1  love the movie but can't watch on my dvd   \n",
       "1         1              did not meet my expectations   \n",
       "2         1                    I don't poop with you!   \n",
       "3         1                            Blu-Ray Review   \n",
       "4         1           Not a good adaptation of Fossas   \n",
       "\n",
       "                                                text  \n",
       "0  I saw movie on Netflix and loved it so ordered...  \n",
       "1  I saw this on sale at my local grocery store. ...  \n",
       "2  Anyone who gives this CD more than one star is...  \n",
       "3  No Doubt one of the worst movies I have ever s...  \n",
       "4  For one, the correct name of the cat-like weas...  "
      ]
     },
     "execution_count": 54,
     "metadata": {},
     "output_type": "execute_result"
    }
   ],
   "source": [
    "new_data.head(5)"
   ]
  },
  {
   "cell_type": "code",
   "execution_count": 55,
   "id": "4a58aaba-3d96-4035-b91f-693a6df265df",
   "metadata": {},
   "outputs": [
    {
     "data": {
      "text/plain": [
       "polarity    10000\n",
       "title       10000\n",
       "text        10000\n",
       "dtype: int64"
      ]
     },
     "execution_count": 55,
     "metadata": {},
     "output_type": "execute_result"
    }
   ],
   "source": [
    "new_data.count()"
   ]
  },
  {
   "cell_type": "code",
   "execution_count": null,
   "id": "68166b1e-6b79-49e5-9532-46bc2085ae78",
   "metadata": {},
   "outputs": [],
   "source": []
  }
 ],
 "metadata": {
  "kernelspec": {
   "display_name": "Python 3 (ipykernel)",
   "language": "python",
   "name": "python3"
  },
  "language_info": {
   "codemirror_mode": {
    "name": "ipython",
    "version": 3
   },
   "file_extension": ".py",
   "mimetype": "text/x-python",
   "name": "python",
   "nbconvert_exporter": "python",
   "pygments_lexer": "ipython3",
   "version": "3.12.3"
  }
 },
 "nbformat": 4,
 "nbformat_minor": 5
}
